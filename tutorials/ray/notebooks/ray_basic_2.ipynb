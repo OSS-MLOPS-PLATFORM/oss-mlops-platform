{
 "cells": [
  {
   "cell_type": "code",
   "execution_count": null,
   "id": "fbe3d538-50d5-43f2-a2e5-c180f43f0433",
   "metadata": {},
   "outputs": [],
   "source": [
    "# %%bash\n",
    "# pip install \"ray[client]\"==2.9.0"
   ]
  },
  {
   "cell_type": "code",
   "execution_count": 1,
   "id": "e0843928-b4cd-4ac4-a2ef-eb239a1a39f8",
   "metadata": {},
   "outputs": [],
   "source": [
    "import sys\n",
    "import time\n",
    "from collections import Counter\n",
    "\n",
    "import ray"
   ]
  },
  {
   "cell_type": "code",
   "execution_count": 2,
   "id": "15223122-0fea-4877-91b9-27df5cf5fbe7",
   "metadata": {},
   "outputs": [],
   "source": [
    "@ray.remote(num_cpus=1)\n",
    "def gethostname(x):\n",
    "    import platform\n",
    "    import time\n",
    "\n",
    "    time.sleep(0.01)\n",
    "    return x + (platform.node(),)\n",
    "\n",
    "\n",
    "def wait_for_nodes(expected):\n",
    "    # Wait for all nodes to join the cluster.\n",
    "    while True:\n",
    "        resources = ray.cluster_resources()\n",
    "        node_keys = [key for key in resources if \"node\" in key]\n",
    "        num_nodes = sum(resources[node_key] for node_key in node_keys)\n",
    "        if num_nodes < expected:\n",
    "            print(\n",
    "                \"{} nodes have joined so far, waiting for {} more.\".format(\n",
    "                    num_nodes, expected - num_nodes\n",
    "                )\n",
    "            )\n",
    "            sys.stdout.flush()\n",
    "            time.sleep(1)\n",
    "        else:\n",
    "            break\n",
    "\n",
    "\n",
    "def main():\n",
    "    wait_for_nodes(2)\n",
    "\n",
    "    # Check that objects can be transferred from each node to each other node.\n",
    "    for i in range(10):\n",
    "        print(\"Iteration {}\".format(i))\n",
    "        results = [gethostname.remote(gethostname.remote(())) for _ in range(100)]\n",
    "        print(Counter(ray.get(results)))\n",
    "        sys.stdout.flush()\n",
    "\n",
    "    print(\"Success!\")\n",
    "    sys.stdout.flush()"
   ]
  },
  {
   "cell_type": "code",
   "execution_count": 4,
   "id": "1c7c710c-c89b-4bf3-a270-5ca473fc5daf",
   "metadata": {},
   "outputs": [
    {
     "data": {
      "text/html": [
       "<div>\n",
       "    <div style=\"margin-left: 50px;display: flex;flex-direction: row;align-items: center\">\n",
       "        <h3 style=\"color: var(--jp-ui-font-color0)\">Ray</h3>\n",
       "        <svg version=\"1.1\" id=\"ray\" width=\"3em\" viewBox=\"0 0 144.5 144.6\" style=\"margin-left: 3em;margin-right: 3em\">\n",
       "            <g id=\"layer-1\">\n",
       "                <path fill=\"#00a2e9\" class=\"st0\" d=\"M97.3,77.2c-3.8-1.1-6.2,0.9-8.3,5.1c-3.5,6.8-9.9,9.9-17.4,9.6S58,88.1,54.8,81.2c-1.4-3-3-4-6.3-4.1\n",
       "                    c-5.6-0.1-9.9,0.1-13.1,6.4c-3.8,7.6-13.6,10.2-21.8,7.6C5.2,88.4-0.4,80.5,0,71.7c0.1-8.4,5.7-15.8,13.8-18.2\n",
       "                    c8.4-2.6,17.5,0.7,22.3,8c1.3,1.9,1.3,5.2,3.6,5.6c3.9,0.6,8,0.2,12,0.2c1.8,0,1.9-1.6,2.4-2.8c3.5-7.8,9.7-11.8,18-11.9\n",
       "                    c8.2-0.1,14.4,3.9,17.8,11.4c1.3,2.8,2.9,3.6,5.7,3.3c1-0.1,2,0.1,3,0c2.8-0.5,6.4,1.7,8.1-2.7s-2.3-5.5-4.1-7.5\n",
       "                    c-5.1-5.7-10.9-10.8-16.1-16.3C84,38,81.9,37.1,78,38.3C66.7,42,56.2,35.7,53,24.1C50.3,14,57.3,2.8,67.7,0.5\n",
       "                    C78.4-2,89,4.7,91.5,15.3c0.1,0.3,0.1,0.5,0.2,0.8c0.7,3.4,0.7,6.9-0.8,9.8c-1.7,3.2-0.8,5,1.5,7.2c6.7,6.5,13.3,13,19.8,19.7\n",
       "                    c1.8,1.8,3,2.1,5.5,1.2c9.1-3.4,17.9-0.6,23.4,7c4.8,6.9,4.6,16.1-0.4,22.9c-5.4,7.2-14.2,9.9-23.1,6.5c-2.3-0.9-3.5-0.6-5.1,1.1\n",
       "                    c-6.7,6.9-13.6,13.7-20.5,20.4c-1.8,1.8-2.5,3.2-1.4,5.9c3.5,8.7,0.3,18.6-7.7,23.6c-7.9,5-18.2,3.8-24.8-2.9\n",
       "                    c-6.4-6.4-7.4-16.2-2.5-24.3c4.9-7.8,14.5-11,23.1-7.8c3,1.1,4.7,0.5,6.9-1.7C91.7,98.4,98,92.3,104.2,86c1.6-1.6,4.1-2.7,2.6-6.2\n",
       "                    c-1.4-3.3-3.8-2.5-6.2-2.6C99.8,77.2,98.9,77.2,97.3,77.2z M72.1,29.7c5.5,0.1,9.9-4.3,10-9.8c0-0.1,0-0.2,0-0.3\n",
       "                    C81.8,14,77,9.8,71.5,10.2c-5,0.3-9,4.2-9.3,9.2c-0.2,5.5,4,10.1,9.5,10.3C71.8,29.7,72,29.7,72.1,29.7z M72.3,62.3\n",
       "                    c-5.4-0.1-9.9,4.2-10.1,9.7c0,0.2,0,0.3,0,0.5c0.2,5.4,4.5,9.7,9.9,10c5.1,0.1,9.9-4.7,10.1-9.8c0.2-5.5-4-10-9.5-10.3\n",
       "                    C72.6,62.3,72.4,62.3,72.3,62.3z M115,72.5c0.1,5.4,4.5,9.7,9.8,9.9c5.6-0.2,10-4.8,10-10.4c-0.2-5.4-4.6-9.7-10-9.7\n",
       "                    c-5.3-0.1-9.8,4.2-9.9,9.5C115,72.1,115,72.3,115,72.5z M19.5,62.3c-5.4,0.1-9.8,4.4-10,9.8c-0.1,5.1,5.2,10.4,10.2,10.3\n",
       "                    c5.6-0.2,10-4.9,9.8-10.5c-0.1-5.4-4.5-9.7-9.9-9.6C19.6,62.3,19.5,62.3,19.5,62.3z M71.8,134.6c5.9,0.2,10.3-3.9,10.4-9.6\n",
       "                    c0.5-5.5-3.6-10.4-9.1-10.8c-5.5-0.5-10.4,3.6-10.8,9.1c0,0.5,0,0.9,0,1.4c-0.2,5.3,4,9.8,9.3,10\n",
       "                    C71.6,134.6,71.7,134.6,71.8,134.6z\"/>\n",
       "            </g>\n",
       "        </svg>\n",
       "        <table>\n",
       "            <tr>\n",
       "                <td style=\"text-align: left\"><b>Python version:</b></td>\n",
       "                <td style=\"text-align: left\"><b>3.8.13</b></td>\n",
       "            </tr>\n",
       "            <tr>\n",
       "                <td style=\"text-align: left\"><b>Ray version:</b></td>\n",
       "                <td style=\"text-align: left\"><b> 2.2.0</b></td>\n",
       "            </tr>\n",
       "            <tr>\n",
       "    <td style=\"text-align: left\"><b>Dashboard:</b></td>\n",
       "    <td style=\"text-align: left\"><b><a href=\"http://10.244.0.65:8265\" target=\"_blank\">http://10.244.0.65:8265</a></b></td>\n",
       "</tr>\n",
       "\n",
       "        </table>\n",
       "    </div>\n",
       "</div>\n"
      ],
      "text/plain": [
       "ClientContext(dashboard_url='10.244.0.65:8265', python_version='3.8.13', ray_version='2.2.0', ray_commit='b6af0887ee5f2e460202133791ad941a41f15beb', protocol_version='2022-10-05', _num_clients=2, _context_to_restore=<ray.util.client._ClientContext object at 0x7fb8119da070>)"
      ]
     },
     "execution_count": 4,
     "metadata": {},
     "output_type": "execute_result"
    }
   ],
   "source": [
    "ray.init(address=\"ray://raycluster-kuberay-head-svc.default.svc.cluster.local:10001\")"
   ]
  },
  {
   "cell_type": "code",
   "execution_count": 5,
   "id": "f43f8264-d9c6-43ed-b2d1-ad8510c81e9f",
   "metadata": {},
   "outputs": [
    {
     "name": "stdout",
     "output_type": "stream",
     "text": [
      "Iteration 0\n",
      "Counter({('raycluster-kuberay-worker-workergroup-rqvh7', 'raycluster-kuberay-head-862db'): 37, ('raycluster-kuberay-head-862db', 'raycluster-kuberay-worker-workergroup-rqvh7'): 27, ('raycluster-kuberay-worker-workergroup-rqvh7', 'raycluster-kuberay-worker-workergroup-rqvh7'): 18, ('raycluster-kuberay-head-862db', 'raycluster-kuberay-head-862db'): 18})\n",
      "Iteration 1\n",
      "Counter({('raycluster-kuberay-head-862db', 'raycluster-kuberay-head-862db'): 34, ('raycluster-kuberay-worker-workergroup-rqvh7', 'raycluster-kuberay-head-862db'): 24, ('raycluster-kuberay-head-862db', 'raycluster-kuberay-worker-workergroup-rqvh7'): 22, ('raycluster-kuberay-worker-workergroup-rqvh7', 'raycluster-kuberay-worker-workergroup-rqvh7'): 20})\n",
      "Iteration 2\n",
      "Counter({('raycluster-kuberay-head-862db', 'raycluster-kuberay-head-862db'): 32, ('raycluster-kuberay-worker-workergroup-rqvh7', 'raycluster-kuberay-head-862db'): 25, ('raycluster-kuberay-worker-workergroup-rqvh7', 'raycluster-kuberay-worker-workergroup-rqvh7'): 24, ('raycluster-kuberay-head-862db', 'raycluster-kuberay-worker-workergroup-rqvh7'): 19})\n",
      "Iteration 3\n",
      "\u001B[2m\u001B[1m\u001B[36m(scheduler +22s)\u001B[0m Tip: use `ray status` to view detailed cluster status. To disable these messages, set RAY_SCHEDULER_EVENTS=0.\n",
      "\u001B[2m\u001B[1m\u001B[33m(scheduler +22s)\u001B[0m Warning: The following resource request cannot be scheduled right now: {'CPU': 1.0}. This is likely due to all cluster resources being claimed by actors. Consider creating fewer actors or adding more nodes to this Ray cluster.\n",
      "Counter({('raycluster-kuberay-head-862db', 'raycluster-kuberay-head-862db'): 28, ('raycluster-kuberay-head-862db', 'raycluster-kuberay-worker-workergroup-rqvh7'): 28, ('raycluster-kuberay-worker-workergroup-rqvh7', 'raycluster-kuberay-head-862db'): 25, ('raycluster-kuberay-worker-workergroup-rqvh7', 'raycluster-kuberay-worker-workergroup-rqvh7'): 19})\n",
      "Iteration 4\n",
      "Counter({('raycluster-kuberay-head-862db', 'raycluster-kuberay-head-862db'): 33, ('raycluster-kuberay-worker-workergroup-rqvh7', 'raycluster-kuberay-head-862db'): 24, ('raycluster-kuberay-worker-workergroup-rqvh7', 'raycluster-kuberay-worker-workergroup-rqvh7'): 22, ('raycluster-kuberay-head-862db', 'raycluster-kuberay-worker-workergroup-rqvh7'): 21})\n",
      "Iteration 5\n",
      "Counter({('raycluster-kuberay-head-862db', 'raycluster-kuberay-head-862db'): 32, ('raycluster-kuberay-head-862db', 'raycluster-kuberay-worker-workergroup-rqvh7'): 28, ('raycluster-kuberay-worker-workergroup-rqvh7', 'raycluster-kuberay-head-862db'): 22, ('raycluster-kuberay-worker-workergroup-rqvh7', 'raycluster-kuberay-worker-workergroup-rqvh7'): 18})\n",
      "Iteration 6\n",
      "Counter({('raycluster-kuberay-head-862db', 'raycluster-kuberay-head-862db'): 33, ('raycluster-kuberay-worker-workergroup-rqvh7', 'raycluster-kuberay-worker-workergroup-rqvh7'): 25, ('raycluster-kuberay-head-862db', 'raycluster-kuberay-worker-workergroup-rqvh7'): 24, ('raycluster-kuberay-worker-workergroup-rqvh7', 'raycluster-kuberay-head-862db'): 18})\n",
      "Iteration 7\n",
      "Counter({('raycluster-kuberay-head-862db', 'raycluster-kuberay-head-862db'): 33, ('raycluster-kuberay-head-862db', 'raycluster-kuberay-worker-workergroup-rqvh7'): 24, ('raycluster-kuberay-worker-workergroup-rqvh7', 'raycluster-kuberay-head-862db'): 23, ('raycluster-kuberay-worker-workergroup-rqvh7', 'raycluster-kuberay-worker-workergroup-rqvh7'): 20})\n",
      "Iteration 8\n",
      "Counter({('raycluster-kuberay-head-862db', 'raycluster-kuberay-head-862db'): 31, ('raycluster-kuberay-worker-workergroup-rqvh7', 'raycluster-kuberay-head-862db'): 29, ('raycluster-kuberay-head-862db', 'raycluster-kuberay-worker-workergroup-rqvh7'): 22, ('raycluster-kuberay-worker-workergroup-rqvh7', 'raycluster-kuberay-worker-workergroup-rqvh7'): 18})\n",
      "Iteration 9\n",
      "Counter({('raycluster-kuberay-head-862db', 'raycluster-kuberay-worker-workergroup-rqvh7'): 32, ('raycluster-kuberay-worker-workergroup-rqvh7', 'raycluster-kuberay-head-862db'): 31, ('raycluster-kuberay-head-862db', 'raycluster-kuberay-head-862db'): 23, ('raycluster-kuberay-worker-workergroup-rqvh7', 'raycluster-kuberay-worker-workergroup-rqvh7'): 14})\n",
      "Success!\n"
     ]
    }
   ],
   "source": [
    "main()"
   ]
  },
  {
   "cell_type": "markdown",
   "id": "1e0edbd0-07a4-45ff-ad4d-06970f6f8fb9",
   "metadata": {},
   "source": [
    "### Access Ray dashboard\n",
    "\n",
    "Run a port-forward from your local computer to the ray dashboard:\n",
    "\n",
    "`kubectl port-forward svc/raycluster-kuberay-head-svc 8265:8265 -n default`\n",
    "\n",
    "Go to http://localhost:8265/ and you should see the Ray dashboard."
   ]
  },
  {
   "cell_type": "markdown",
   "source": [
    "### Connect to Ray cluster from local machine\n",
    "\n",
    "> The version of the Ray client must match the version of the Ray cluster (2.9.0).\n",
    "\n",
    "```bash\n",
    "conda create -n ray-env python=3.8.10\n",
    "conda activate ray-env\n",
    "pip install \"ray[client]\"==2.9.0\n",
    "```\n",
    "\n",
    "Run a port forwarding to the Ray head service:\n",
    "\n",
    "```bash\n",
    "kubectl port-forward svc/raycluster-kuberay-head-svc 10001:10001 -n default\n",
    "```\n",
    "\n",
    "```python\n",
    "import ray\n",
    "\n",
    "ray.init(address=\"ray://localhost:10001\")\n",
    "print(ray.cluster_resources())\n",
    "```"
   ],
   "metadata": {
    "collapsed": false
   },
   "id": "6d9b90f73df56011"
  }
 ],
 "metadata": {
  "kernelspec": {
   "display_name": "Python 3 (ipykernel)",
   "language": "python",
   "name": "python3"
  },
  "language_info": {
   "codemirror_mode": {
    "name": "ipython",
    "version": 3
   },
   "file_extension": ".py",
   "mimetype": "text/x-python",
   "name": "python",
   "nbconvert_exporter": "python",
   "pygments_lexer": "ipython3",
   "version": "3.8.10"
  }
 },
 "nbformat": 4,
 "nbformat_minor": 5
}
