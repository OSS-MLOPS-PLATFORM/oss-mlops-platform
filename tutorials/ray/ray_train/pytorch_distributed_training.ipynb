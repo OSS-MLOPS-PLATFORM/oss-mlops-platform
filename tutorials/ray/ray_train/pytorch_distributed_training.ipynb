{
 "cells": [
  {
   "cell_type": "markdown",
   "source": [
    "# Pytorch Distributed Training\n",
    "\n",
    "See the \"Pytorch distributed training\" section of the [README](README.md) for setting up the Ray cluster before running this example.\n",
    "\n",
    "For more information about Ray Train and the pytorch distributed training example, please check the original [getting-started-pytorch](https://docs.ray.io/en/latest/train/getting-started-pytorch.html) documentation."
   ],
   "metadata": {
    "collapsed": false
   },
   "id": "5dd59779405ab6a9"
  },
  {
   "cell_type": "markdown",
   "source": [
    "## 1. Install requirements"
   ],
   "metadata": {
    "collapsed": false
   },
   "id": "1dc95efb2549ae8e"
  },
  {
   "cell_type": "code",
   "outputs": [],
   "source": [
    "%%bash\n",
    "# pip install \"ray[data,train,tune,serve]\"==2.9.0\n",
    "# pip install torch torchvision\n",
    "# pip install IPython"
   ],
   "metadata": {
    "collapsed": true,
    "ExecuteTime": {
     "end_time": "2024-01-12T09:03:44.584932963Z",
     "start_time": "2024-01-12T09:03:44.568038429Z"
    }
   },
   "id": "initial_id",
   "execution_count": 1
  },
  {
   "cell_type": "markdown",
   "source": [],
   "metadata": {
    "collapsed": false
   },
   "id": "5d4022fdcb1679c"
  },
  {
   "cell_type": "markdown",
   "source": [
    "Run a port forwarding to the Ray head service:\n",
    "```bash\n",
    "kubectl port-forward svc/raycluster-kuberay-head-svc 10001:10001 -n default\n",
    "```"
   ],
   "metadata": {
    "collapsed": false
   },
   "id": "90fd320efb90e4eb"
  },
  {
   "cell_type": "code",
   "outputs": [
    {
     "name": "stdout",
     "output_type": "stream",
     "text": [
      "2.9.0\n"
     ]
    }
   ],
   "source": [
    "import os\n",
    "import tempfile\n",
    "\n",
    "import torch\n",
    "from torch.nn import CrossEntropyLoss\n",
    "from torch.optim import Adam\n",
    "from torch.utils.data import DataLoader\n",
    "from torchvision.models import resnet18\n",
    "from torchvision.datasets import FashionMNIST\n",
    "from torchvision.transforms import ToTensor, Normalize, Compose\n",
    "\n",
    "import ray\n",
    "from ray.train.torch import TorchTrainer\n",
    "import ray.train.torch\n",
    "\n",
    "print(ray.__version__)"
   ],
   "metadata": {
    "collapsed": false,
    "ExecuteTime": {
     "end_time": "2024-01-12T09:22:06.927812892Z",
     "start_time": "2024-01-12T09:22:04.961565464Z"
    }
   },
   "id": "481ead5b0e5fa772",
   "execution_count": 1
  },
  {
   "cell_type": "markdown",
   "source": [
    "## 2. Connect to the Ray cluster"
   ],
   "metadata": {
    "collapsed": false
   },
   "id": "87448451f3b3af8d"
  },
  {
   "cell_type": "code",
   "outputs": [
    {
     "data": {
      "text/plain": "ClientContext(dashboard_url='10.244.0.79:8265', python_version='3.8.13', ray_version='2.7.0', ray_commit='b4bba4717f5ba04ee25580fe8f88eed63ef0c5dc', protocol_version='2023-06-27', _num_clients=2, _context_to_restore=<ray.util.client._ClientContext object at 0x7fd1123d9e80>)",
      "application/vnd.jupyter.widget-view+json": {
       "version_major": 2,
       "version_minor": 0,
       "model_id": "668eb00ed48f47778d932f01c31f9f71"
      },
      "text/html": "<div class=\"lm-Widget p-Widget lm-Panel p-Panel jp-Cell-outputWrapper\">\n    <div style=\"margin-left: 50px;display: flex;flex-direction: row;align-items: center\">\n        <div class=\"jp-RenderedHTMLCommon\" style=\"display: flex; flex-direction: row;\">\n  <svg viewBox=\"0 0 567 224\" fill=\"none\" xmlns=\"http://www.w3.org/2000/svg\" style=\"height: 3em;\">\n    <g clip-path=\"url(#clip0_4338_178347)\">\n        <path d=\"M341.29 165.561H355.29L330.13 129.051C345.63 123.991 354.21 112.051 354.21 94.2307C354.21 71.3707 338.72 58.1807 311.88 58.1807H271V165.561H283.27V131.661H311.8C314.25 131.661 316.71 131.501 319.01 131.351L341.25 165.561H341.29ZM283.29 119.851V70.0007H311.82C331.3 70.0007 342.34 78.2907 342.34 94.5507C342.34 111.271 331.34 119.861 311.82 119.861L283.29 119.851ZM451.4 138.411L463.4 165.561H476.74L428.74 58.1807H416L367.83 165.561H380.83L392.83 138.411H451.4ZM446.19 126.601H398L422 72.1407L446.24 126.601H446.19ZM526.11 128.741L566.91 58.1807H554.35L519.99 114.181L485.17 58.1807H472.44L514.01 129.181V165.541H526.13V128.741H526.11Z\" fill=\"var(--jp-ui-font-color0)\"/>\n        <path d=\"M82.35 104.44C84.0187 97.8827 87.8248 92.0678 93.1671 87.9146C98.5094 83.7614 105.083 81.5067 111.85 81.5067C118.617 81.5067 125.191 83.7614 130.533 87.9146C135.875 92.0678 139.681 97.8827 141.35 104.44H163.75C164.476 101.562 165.622 98.8057 167.15 96.2605L127.45 56.5605C121.071 60.3522 113.526 61.6823 106.235 60.3005C98.9443 58.9187 92.4094 54.9203 87.8602 49.0574C83.3109 43.1946 81.0609 35.8714 81.5332 28.4656C82.0056 21.0599 85.1679 14.0819 90.4252 8.8446C95.6824 3.60726 102.672 0.471508 110.08 0.0272655C117.487 -0.416977 124.802 1.86091 130.647 6.4324C136.493 11.0039 140.467 17.5539 141.821 24.8501C143.175 32.1463 141.816 39.6859 138 46.0505L177.69 85.7505C182.31 82.9877 187.58 81.4995 192.962 81.4375C198.345 81.3755 203.648 82.742 208.33 85.3976C213.012 88.0532 216.907 91.9029 219.616 96.5544C222.326 101.206 223.753 106.492 223.753 111.875C223.753 117.258 222.326 122.545 219.616 127.197C216.907 131.848 213.012 135.698 208.33 138.353C203.648 141.009 198.345 142.375 192.962 142.313C187.58 142.251 182.31 140.763 177.69 138L138 177.7C141.808 184.071 143.155 191.614 141.79 198.91C140.424 206.205 136.44 212.75 130.585 217.313C124.731 221.875 117.412 224.141 110.004 223.683C102.596 223.226 95.6103 220.077 90.3621 214.828C85.1139 209.58 81.9647 202.595 81.5072 195.187C81.0497 187.779 83.3154 180.459 87.878 174.605C92.4405 168.751 98.9853 164.766 106.281 163.401C113.576 162.035 121.119 163.383 127.49 167.19L167.19 127.49C165.664 124.941 164.518 122.182 163.79 119.3H141.39C139.721 125.858 135.915 131.673 130.573 135.826C125.231 139.98 118.657 142.234 111.89 142.234C105.123 142.234 98.5494 139.98 93.2071 135.826C87.8648 131.673 84.0587 125.858 82.39 119.3H60C58.1878 126.495 53.8086 132.78 47.6863 136.971C41.5641 141.163 34.1211 142.972 26.7579 142.059C19.3947 141.146 12.6191 137.574 7.70605 132.014C2.79302 126.454 0.0813599 119.29 0.0813599 111.87C0.0813599 104.451 2.79302 97.2871 7.70605 91.7272C12.6191 86.1673 19.3947 82.5947 26.7579 81.6817C34.1211 80.7686 41.5641 82.5781 47.6863 86.7696C53.8086 90.9611 58.1878 97.2456 60 104.44H82.35ZM100.86 204.32C103.407 206.868 106.759 208.453 110.345 208.806C113.93 209.159 117.527 208.258 120.522 206.256C123.517 204.254 125.725 201.276 126.771 197.828C127.816 194.38 127.633 190.677 126.253 187.349C124.874 184.021 122.383 181.274 119.205 179.577C116.027 177.88 112.359 177.337 108.826 178.042C105.293 178.746 102.113 180.654 99.8291 183.44C97.5451 186.226 96.2979 189.718 96.3 193.32C96.2985 195.364 96.7006 197.388 97.4831 199.275C98.2656 201.163 99.4132 202.877 100.86 204.32ZM204.32 122.88C206.868 120.333 208.453 116.981 208.806 113.396C209.159 109.811 208.258 106.214 206.256 103.219C204.254 100.223 201.275 98.0151 197.827 96.97C194.38 95.9249 190.676 96.1077 187.348 97.4873C184.02 98.8669 181.274 101.358 179.577 104.536C177.879 107.714 177.337 111.382 178.041 114.915C178.746 118.448 180.653 121.627 183.439 123.911C186.226 126.195 189.717 127.443 193.32 127.44C195.364 127.443 197.388 127.042 199.275 126.259C201.163 125.476 202.878 124.328 204.32 122.88ZM122.88 19.4205C120.333 16.8729 116.981 15.2876 113.395 14.9347C109.81 14.5817 106.213 15.483 103.218 17.4849C100.223 19.4868 98.0146 22.4654 96.9696 25.9131C95.9245 29.3608 96.1073 33.0642 97.4869 36.3922C98.8665 39.7202 101.358 42.4668 104.535 44.1639C107.713 45.861 111.381 46.4036 114.914 45.6992C118.447 44.9949 121.627 43.0871 123.911 40.301C126.195 37.515 127.442 34.0231 127.44 30.4205C127.44 28.3772 127.038 26.3539 126.255 24.4664C125.473 22.5788 124.326 20.8642 122.88 19.4205ZM19.42 100.86C16.8725 103.408 15.2872 106.76 14.9342 110.345C14.5813 113.93 15.4826 117.527 17.4844 120.522C19.4863 123.518 22.4649 125.726 25.9127 126.771C29.3604 127.816 33.0638 127.633 36.3918 126.254C39.7198 124.874 42.4664 122.383 44.1635 119.205C45.8606 116.027 46.4032 112.359 45.6988 108.826C44.9944 105.293 43.0866 102.114 40.3006 99.8296C37.5145 97.5455 34.0227 96.2983 30.42 96.3005C26.2938 96.3018 22.337 97.9421 19.42 100.86ZM100.86 100.86C98.3125 103.408 96.7272 106.76 96.3742 110.345C96.0213 113.93 96.9226 117.527 98.9244 120.522C100.926 123.518 103.905 125.726 107.353 126.771C110.8 127.816 114.504 127.633 117.832 126.254C121.16 124.874 123.906 122.383 125.604 119.205C127.301 116.027 127.843 112.359 127.139 108.826C126.434 105.293 124.527 102.114 121.741 99.8296C118.955 97.5455 115.463 96.2983 111.86 96.3005C109.817 96.299 107.793 96.701 105.905 97.4835C104.018 98.2661 102.303 99.4136 100.86 100.86Z\" fill=\"#00AEEF\"/>\n    </g>\n    <defs>\n        <clipPath id=\"clip0_4338_178347\">\n            <rect width=\"566.93\" height=\"223.75\" fill=\"white\"/>\n        </clipPath>\n    </defs>\n  </svg>\n</div>\n\n        <table class=\"jp-RenderedHTMLCommon\" style=\"border-collapse: collapse;color: var(--jp-ui-font-color1);font-size: var(--jp-ui-font-size1);\">\n    <tr>\n        <td style=\"text-align: left\"><b>Python version:</b></td>\n        <td style=\"text-align: left\"><b>3.8.13</b></td>\n    </tr>\n    <tr>\n        <td style=\"text-align: left\"><b>Ray version:</b></td>\n        <td style=\"text-align: left\"><b>2.7.0</b></td>\n    </tr>\n    <tr>\n    <td style=\"text-align: left\"><b>Dashboard:</b></td>\n    <td style=\"text-align: left\"><b><a href=\"http://10.244.0.79:8265\" target=\"_blank\">http://10.244.0.79:8265</a></b></td>\n</tr>\n\n</table>\n\n    </div>\n</div>\n"
     },
     "execution_count": 2,
     "metadata": {},
     "output_type": "execute_result"
    }
   ],
   "source": [
    "runtime_env = {\n",
    "    \"pip\": [\"torch\", \"torchvision\", \"IPython\"],\n",
    "}\n",
    "ray.init(address=\"ray://localhost:10001\", runtime_env=runtime_env)"
   ],
   "metadata": {
    "collapsed": false,
    "ExecuteTime": {
     "end_time": "2024-01-12T09:26:59.063296338Z",
     "start_time": "2024-01-12T09:22:07.551899877Z"
    }
   },
   "id": "d4371125bae14aea",
   "execution_count": 2
  },
  {
   "cell_type": "code",
   "outputs": [
    {
     "name": "stdout",
     "output_type": "stream",
     "text": [
      "{'object_store_memory': 6313651814.0, 'node:10.244.0.79': 1.0, 'node:__internal_head__': 1.0, 'node:10.244.0.78': 1.0, 'memory': 22000000000.0, 'GPU': 2.0, 'CPU': 8.0, 'accelerator_type:G': 2.0}\n"
     ]
    }
   ],
   "source": [
    "print(ray.cluster_resources())"
   ],
   "metadata": {
    "collapsed": false,
    "ExecuteTime": {
     "end_time": "2024-01-12T09:26:59.172930553Z",
     "start_time": "2024-01-12T09:26:59.063199846Z"
    }
   },
   "id": "f77dba013557371d",
   "execution_count": 3
  },
  {
   "cell_type": "markdown",
   "source": [
    "## 3. Define training\n",
    "\n",
    "- `train_func` is the Python code that executes on each distributed training worker.\n",
    "\n",
    "- `ScalingConfig` defines the number of distributed training workers and whether to use GPUs.\n",
    "\n",
    "- `TorchTrainer` launches the distributed training job."
   ],
   "metadata": {
    "collapsed": false
   },
   "id": "bcbd1be9aef9ee8b"
  },
  {
   "cell_type": "code",
   "outputs": [],
   "source": [
    "def train_func(config):\n",
    "    # Model, Loss, Optimizer\n",
    "    model = resnet18(num_classes=10)\n",
    "    model.conv1 = torch.nn.Conv2d(\n",
    "        1, 64, kernel_size=(7, 7), stride=(2, 2), padding=(3, 3), bias=False\n",
    "    )\n",
    "    # model.to(\"cuda\")  # This is done by `prepare_model`\n",
    "    # [1] Prepare model.\n",
    "    model = ray.train.torch.prepare_model(model)\n",
    "    criterion = CrossEntropyLoss()\n",
    "    optimizer = Adam(model.parameters(), lr=0.001)\n",
    "\n",
    "    # Data\n",
    "    transform = Compose([ToTensor(), Normalize((0.5,), (0.5,))])\n",
    "    data_dir = os.path.join(tempfile.gettempdir(), \"data\")\n",
    "    train_data = FashionMNIST(root=data_dir, train=True, download=True, transform=transform)\n",
    "    train_loader = DataLoader(train_data, batch_size=64, shuffle=True)\n",
    "    # [2] Prepare dataloader.\n",
    "    train_loader = ray.train.torch.prepare_data_loader(train_loader)\n",
    "\n",
    "    # Training\n",
    "    n_epochs = 4\n",
    "    for epoch in range(n_epochs):\n",
    "        for images, labels in train_loader:\n",
    "            # This is done by `prepare_data_loader`!\n",
    "            # images, labels = images.to(\"cuda\"), labels.to(\"cuda\")\n",
    "            outputs = model(images)\n",
    "            loss = criterion(outputs, labels)\n",
    "            optimizer.zero_grad()\n",
    "            loss.backward()\n",
    "            optimizer.step()\n",
    "\n",
    "        # [3] Report metrics and checkpoint.\n",
    "        metrics = {\"loss\": loss.item(), \"epoch\": epoch}\n",
    "        with tempfile.TemporaryDirectory() as temp_checkpoint_dir:\n",
    "            torch.save(\n",
    "                model.module.state_dict(),\n",
    "                os.path.join(temp_checkpoint_dir, \"model.pt\")\n",
    "            )\n",
    "            ray.train.report(\n",
    "                metrics,\n",
    "                checkpoint=ray.train.Checkpoint.from_directory(temp_checkpoint_dir),\n",
    "            )\n",
    "        if ray.train.get_context().get_world_rank() == 0:\n",
    "            print(metrics)"
   ],
   "metadata": {
    "collapsed": false,
    "ExecuteTime": {
     "end_time": "2024-01-12T09:26:59.173312443Z",
     "start_time": "2024-01-12T09:26:59.104781134Z"
    }
   },
   "id": "f63f34bcc9a165a9",
   "execution_count": 4
  },
  {
   "cell_type": "code",
   "outputs": [],
   "source": [
    "# Configure scaling and resource requirements.\n",
    "scaling_config = ray.train.ScalingConfig(num_workers=2, use_gpu=False)"
   ],
   "metadata": {
    "collapsed": false,
    "ExecuteTime": {
     "end_time": "2024-01-12T09:26:59.173561032Z",
     "start_time": "2024-01-12T09:26:59.105092231Z"
    }
   },
   "id": "c0abf33da5091a67",
   "execution_count": 5
  },
  {
   "cell_type": "code",
   "outputs": [],
   "source": [
    "# Distributed training job.\n",
    "trainer = ray.train.torch.TorchTrainer(\n",
    "    train_func,\n",
    "    scaling_config=scaling_config,\n",
    "    run_config=ray.train.RunConfig(\n",
    "        storage_path=\"/home/ray/nfs\",\n",
    "        name=\"nfs\",\n",
    "    )\n",
    ")"
   ],
   "metadata": {
    "collapsed": false,
    "ExecuteTime": {
     "end_time": "2024-01-12T09:26:59.173798740Z",
     "start_time": "2024-01-12T09:26:59.105266269Z"
    }
   },
   "id": "c9062a2bed5e71d5",
   "execution_count": 6
  },
  {
   "cell_type": "markdown",
   "source": [
    "## 4. Launch training job"
   ],
   "metadata": {
    "collapsed": false
   },
   "id": "3a49b206c6f18468"
  },
  {
   "cell_type": "code",
   "outputs": [
    {
     "data": {
      "text/plain": "<IPython.core.display.HTML object>",
      "text/html": ""
     },
     "metadata": {},
     "output_type": "display_data"
    },
    {
     "name": "stderr",
     "output_type": "stream",
     "text": [
      "\u001B[2m\u001B[36m(TunerInternal pid=3003)\u001B[0m [output] This will use the new output engine with verbosity 1. To disable the new output and use the legacy output engine, set the environment variable RAY_AIR_NEW_OUTPUT=0. For more information, please see https://github.com/ray-project/ray/issues/36949\n"
     ]
    },
    {
     "name": "stdout",
     "output_type": "stream",
     "text": [
      "\u001B[2m\u001B[36m(TunerInternal pid=3003)\u001B[0m \n",
      "\u001B[2m\u001B[36m(TunerInternal pid=3003)\u001B[0m View detailed results here: /home/ray/nfs/nfs\n",
      "\u001B[2m\u001B[36m(TunerInternal pid=3003)\u001B[0m To visualize your results with TensorBoard, run: `tensorboard --logdir /home/ray/ray_results/nfs`\n"
     ]
    },
    {
     "name": "stderr",
     "output_type": "stream",
     "text": [
      "\u001B[2m\u001B[36m(TunerInternal pid=3003)\u001B[0m AIR_VERBOSITY is set, ignoring passed-in ProgressReporter for now.\n",
      "\u001B[2m\u001B[36m(TunerInternal pid=3003)\u001B[0m GPUs are detected in your Ray cluster, but GPU training is not enabled for this trainer. To enable GPU training, make sure to set `use_gpu` to True in your scaling config.\n",
      "\u001B[2m\u001B[36m(TrainTrainable pid=619, ip=10.244.0.78)\u001B[0m GPUs are detected in your Ray cluster, but GPU training is not enabled for this trainer. To enable GPU training, make sure to set `use_gpu` to True in your scaling config.\n",
      "\u001B[2m\u001B[36m(TorchTrainer pid=619, ip=10.244.0.78)\u001B[0m GPUs are detected in your Ray cluster, but GPU training is not enabled for this trainer. To enable GPU training, make sure to set `use_gpu` to True in your scaling config.\n"
     ]
    },
    {
     "name": "stdout",
     "output_type": "stream",
     "text": [
      "\u001B[2m\u001B[36m(TunerInternal pid=3003)\u001B[0m \n",
      "\u001B[2m\u001B[36m(TunerInternal pid=3003)\u001B[0m Training started without custom configuration.\n"
     ]
    },
    {
     "name": "stderr",
     "output_type": "stream",
     "text": [
      "\u001B[2m\u001B[36m(TorchTrainer pid=619, ip=10.244.0.78)\u001B[0m Starting distributed worker processes: ['675 (10.244.0.78)', '676 (10.244.0.78)']\n",
      "\u001B[2m\u001B[36m(RayTrainWorker pid=675, ip=10.244.0.78)\u001B[0m Setting up process group for: env:// [rank=0, world_size=2]\n",
      "\u001B[2m\u001B[36m(RayTrainWorker pid=675, ip=10.244.0.78)\u001B[0m Moving model to device: cpu\n",
      "\u001B[2m\u001B[36m(RayTrainWorker pid=675, ip=10.244.0.78)\u001B[0m Wrapping provided model in DistributedDataParallel.\n"
     ]
    },
    {
     "name": "stdout",
     "output_type": "stream",
     "text": [
      "\u001B[2m\u001B[36m(RayTrainWorker pid=675, ip=10.244.0.78)\u001B[0m Downloading http://fashion-mnist.s3-website.eu-central-1.amazonaws.com/train-images-idx3-ubyte.gz\n",
      "\u001B[2m\u001B[36m(RayTrainWorker pid=676, ip=10.244.0.78)\u001B[0m Downloading http://fashion-mnist.s3-website.eu-central-1.amazonaws.com/train-images-idx3-ubyte.gz\n",
      "\u001B[2m\u001B[36m(RayTrainWorker pid=675, ip=10.244.0.78)\u001B[0m Downloading http://fashion-mnist.s3-website.eu-central-1.amazonaws.com/train-images-idx3-ubyte.gz to /tmp/data/FashionMNIST/raw/train-images-idx3-ubyte.gz\n",
      "\u001B[2m\u001B[36m(RayTrainWorker pid=676, ip=10.244.0.78)\u001B[0m Downloading http://fashion-mnist.s3-website.eu-central-1.amazonaws.com/train-images-idx3-ubyte.gz to /tmp/data/FashionMNIST/raw/train-images-idx3-ubyte.gz\n"
     ]
    },
    {
     "name": "stderr",
     "output_type": "stream",
     "text": [
      "  0%|          | 0/26421880 [00:00<?, ?it/s]0.78)\u001B[0m \n",
      "  0%|          | 0/26421880 [00:00<?, ?it/s]0.78)\u001B[0m \n",
      "  1%|          | 294912/26421880 [00:00<00:09, 2866403.53it/s]\n",
      "  1%|          | 229376/26421880 [00:00<00:12, 2131837.48it/s]\n",
      "  3%|▎         | 917504/26421880 [00:00<00:05, 4529960.09it/s]\n",
      "  3%|▎         | 884736/26421880 [00:00<00:05, 4300825.88it/s]\n",
      "  6%|▌         | 1572864/26421880 [00:00<00:04, 5373327.49it/s]\n",
      "  5%|▌         | 1409024/26421880 [00:00<00:05, 4659092.99it/s]\n",
      "  8%|▊         | 2129920/26421880 [00:00<00:04, 5430414.64it/s]\n",
      "  8%|▊         | 2064384/26421880 [00:00<00:04, 5326267.58it/s]\n",
      " 10%|█         | 2686976/26421880 [00:00<00:04, 5419314.02it/s]\n",
      " 10%|█         | 2654208/26421880 [00:00<00:04, 5405525.79it/s]\n",
      " 13%|█▎        | 3309568/26421880 [00:00<00:04, 5579685.57it/s]\n",
      " 12%|█▏        | 3211264/26421880 [00:00<00:04, 5405383.19it/s]\n",
      " 15%|█▍        | 3932160/26421880 [00:00<00:03, 5718821.95it/s]\n",
      " 14%|█▍        | 3768320/26421880 [00:00<00:04, 5378143.62it/s]\n",
      " 17%|█▋        | 4521984/26421880 [00:00<00:03, 5740765.13it/s]\n",
      " 16%|█▋        | 4325376/26421880 [00:00<00:04, 5385024.43it/s]\n",
      " 19%|█▉        | 5111808/26421880 [00:00<00:03, 5750858.51it/s]\n",
      " 18%|█▊        | 4882432/26421880 [00:00<00:03, 5418801.08it/s]\n",
      " 22%|██▏       | 5734400/26421880 [00:01<00:03, 5865371.55it/s]\n",
      " 21%|██        | 5439488/26421880 [00:01<00:03, 5300620.37it/s]\n",
      " 24%|██▍       | 6356992/26421880 [00:01<00:03, 5964713.87it/s]\n",
      " 23%|██▎       | 5996544/26421880 [00:01<00:03, 5288970.67it/s]\n",
      " 26%|██▋       | 6979584/26421880 [00:01<00:03, 5926495.35it/s]\n",
      " 25%|██▍       | 6553600/26421880 [00:01<00:03, 5318841.46it/s]\n",
      " 29%|██▉       | 7602176/26421880 [00:01<00:03, 5895700.76it/s]\n",
      " 27%|██▋       | 7110656/26421880 [00:01<00:03, 5351532.05it/s]\n",
      " 31%|███       | 8192000/26421880 [00:01<00:03, 5878526.49it/s]\n",
      " 29%|██▉       | 7667712/26421880 [00:01<00:03, 5374874.05it/s]\n",
      " 33%|███▎      | 8781824/26421880 [00:01<00:03, 5844164.61it/s]\n",
      " 31%|███       | 8224768/26421880 [00:01<00:03, 5414908.72it/s]\n",
      " 35%|███▌      | 9371648/26421880 [00:01<00:02, 5847722.46it/s]\n",
      " 33%|███▎      | 8781824/26421880 [00:01<00:03, 5400887.68it/s]\n",
      " 38%|███▊      | 9961472/26421880 [00:01<00:02, 5857586.61it/s]\n",
      " 35%|███▌      | 9338880/26421880 [00:01<00:03, 5416956.96it/s]\n",
      " 40%|███▉      | 10551296/26421880 [00:01<00:02, 5857286.12it/s]\n",
      " 37%|███▋      | 9895936/26421880 [00:01<00:03, 5395838.09it/s]\n",
      " 42%|████▏     | 11141120/26421880 [00:01<00:02, 5836865.28it/s]\n",
      " 40%|███▉      | 10452992/26421880 [00:01<00:02, 5437529.72it/s]\n",
      " 44%|████▍     | 11730944/26421880 [00:02<00:02, 5788960.96it/s]\n",
      " 42%|████▏     | 11042816/26421880 [00:02<00:02, 5510701.83it/s]\n",
      " 47%|████▋     | 12320768/26421880 [00:02<00:02, 5734132.38it/s]\n",
      " 44%|████▍     | 11632640/26421880 [00:02<00:02, 5557459.74it/s]\n",
      " 49%|████▉     | 12910592/26421880 [00:02<00:02, 5690962.75it/s]\n",
      " 46%|████▌     | 12189696/26421880 [00:02<00:02, 5549297.27it/s]\n",
      " 51%|█████     | 13500416/26421880 [00:02<00:02, 5687304.13it/s]\n",
      " 53%|█████▎    | 14090240/26421880 [00:02<00:02, 5704582.51it/s]\n",
      " 48%|████▊     | 12779520/26421880 [00:02<00:02, 5546530.38it/s]\n",
      " 56%|█████▌    | 14680064/26421880 [00:02<00:02, 5692939.05it/s]\n",
      " 51%|█████     | 13369344/26421880 [00:02<00:02, 5573935.61it/s]\n",
      " 58%|█████▊    | 15269888/26421880 [00:02<00:01, 5688079.45it/s]\n",
      " 53%|█████▎    | 13959168/26421880 [00:02<00:02, 5577198.46it/s]\n",
      " 60%|██████    | 15859712/26421880 [00:02<00:01, 5696920.24it/s]\n",
      " 55%|█████▌    | 14548992/26421880 [00:02<00:02, 5564576.36it/s]\n",
      " 62%|██████▏   | 16449536/26421880 [00:02<00:01, 5690424.51it/s]\n",
      " 57%|█████▋    | 15138816/26421880 [00:02<00:02, 5564872.27it/s]\n",
      " 64%|██████▍   | 17039360/26421880 [00:02<00:01, 5729797.10it/s]\n",
      " 59%|█████▉    | 15695872/26421880 [00:02<00:01, 5526420.48it/s]\n",
      " 67%|██████▋   | 17629184/26421880 [00:03<00:01, 5726302.76it/s]\n",
      " 62%|██████▏   | 16285696/26421880 [00:03<00:01, 5533936.01it/s]\n",
      " 69%|██████▉   | 18219008/26421880 [00:03<00:01, 5711985.36it/s]\n",
      " 64%|██████▍   | 16875520/26421880 [00:03<00:01, 5553247.46it/s]\n",
      " 71%|███████   | 18808832/26421880 [00:03<00:01, 5763059.94it/s]\n",
      " 66%|██████▌   | 17432576/26421880 [00:03<00:01, 5536860.99it/s]\n",
      " 73%|███████▎  | 19398656/26421880 [00:03<00:01, 5778509.12it/s]\n",
      " 68%|██████▊   | 17989632/26421880 [00:03<00:01, 5495142.69it/s]\n",
      " 76%|███████▌  | 19988480/26421880 [00:03<00:01, 5765830.85it/s]\n",
      " 70%|███████   | 18546688/26421880 [00:03<00:01, 5495656.97it/s]\n",
      " 78%|███████▊  | 20578304/26421880 [00:03<00:01, 5751672.67it/s]\n",
      " 72%|███████▏  | 19103744/26421880 [00:03<00:01, 5490478.68it/s]\n",
      " 80%|████████  | 21168128/26421880 [00:03<00:00, 5721049.41it/s]\n",
      " 75%|███████▍  | 19693568/26421880 [00:03<00:01, 5531681.17it/s]\n",
      " 82%|████████▏ | 21757952/26421880 [00:03<00:00, 5733116.41it/s]\n",
      " 77%|███████▋  | 20283392/26421880 [00:03<00:01, 5535344.94it/s]\n",
      " 85%|████████▍ | 22347776/26421880 [00:03<00:00, 5730876.12it/s]\n",
      " 79%|███████▉  | 20840448/26421880 [00:03<00:01, 5543085.32it/s]\n",
      " 87%|████████▋ | 22937600/26421880 [00:04<00:00, 5744615.10it/s]\n",
      " 81%|████████  | 21397504/26421880 [00:03<00:00, 5526378.80it/s]\n",
      " 89%|████████▉ | 23560192/26421880 [00:04<00:00, 5808396.90it/s]\n",
      " 83%|████████▎ | 21954560/26421880 [00:04<00:00, 5486737.52it/s]\n",
      " 91%|█████████▏| 24150016/26421880 [00:04<00:00, 5789327.71it/s]\n",
      " 85%|████████▌ | 22511616/26421880 [00:04<00:00, 5457047.79it/s]\n",
      " 94%|█████████▎| 24739840/26421880 [00:04<00:00, 5756054.79it/s]\n",
      " 87%|████████▋ | 23101440/26421880 [00:04<00:00, 5488249.42it/s]\n",
      " 96%|█████████▌| 25329664/26421880 [00:04<00:00, 5739809.74it/s]\n",
      " 90%|████████▉ | 23658496/26421880 [00:04<00:00, 5497227.02it/s]\n",
      " 98%|█████████▊| 25919488/26421880 [00:04<00:00, 5697931.78it/s]\n",
      " 92%|█████████▏| 24248320/26421880 [00:04<00:00, 5539754.91it/s]\n",
      "100%|██████████| 26421880/26421880 [00:04<00:00, 5705653.71it/s]\n",
      " 94%|█████████▍| 24838144/26421880 [00:04<00:00, 5593082.85it/s]\n",
      " 97%|█████████▋| 25657344/26421880 [00:04<00:00, 6303371.26it/s]\n",
      "100%|██████████| 26421880/26421880 [00:04<00:00, 5566195.10it/s]\n"
     ]
    },
    {
     "name": "stdout",
     "output_type": "stream",
     "text": [
      "\u001B[2m\u001B[36m(RayTrainWorker pid=676, ip=10.244.0.78)\u001B[0m Extracting /tmp/data/FashionMNIST/raw/train-images-idx3-ubyte.gz to /tmp/data/FashionMNIST/raw\n",
      "\u001B[2m\u001B[36m(RayTrainWorker pid=675, ip=10.244.0.78)\u001B[0m Extracting /tmp/data/FashionMNIST/raw/train-images-idx3-ubyte.gz to /tmp/data/FashionMNIST/raw\n",
      "\u001B[2m\u001B[36m(RayTrainWorker pid=675, ip=10.244.0.78)\u001B[0m \n",
      "\u001B[2m\u001B[36m(RayTrainWorker pid=675, ip=10.244.0.78)\u001B[0m Downloading http://fashion-mnist.s3-website.eu-central-1.amazonaws.com/train-labels-idx1-ubyte.gz\n",
      "\u001B[2m\u001B[36m(RayTrainWorker pid=676, ip=10.244.0.78)\u001B[0m \n",
      "\u001B[2m\u001B[36m(RayTrainWorker pid=676, ip=10.244.0.78)\u001B[0m Downloading http://fashion-mnist.s3-website.eu-central-1.amazonaws.com/train-labels-idx1-ubyte.gz\n",
      "\u001B[2m\u001B[36m(RayTrainWorker pid=675, ip=10.244.0.78)\u001B[0m Downloading http://fashion-mnist.s3-website.eu-central-1.amazonaws.com/train-labels-idx1-ubyte.gz to /tmp/data/FashionMNIST/raw/train-labels-idx1-ubyte.gz\n",
      "\u001B[2m\u001B[36m(RayTrainWorker pid=676, ip=10.244.0.78)\u001B[0m Downloading http://fashion-mnist.s3-website.eu-central-1.amazonaws.com/train-labels-idx1-ubyte.gz to /tmp/data/FashionMNIST/raw/train-labels-idx1-ubyte.gz\n"
     ]
    },
    {
     "name": "stderr",
     "output_type": "stream",
     "text": [
      "  0%|          | 0/29515 [00:00<?, ?it/s]44.0.78)\u001B[0m \n",
      "100%|██████████| 29515/29515 [00:00<00:00, 1170050.78it/s]\n",
      "100%|██████████| 29515/29515 [00:00<00:00, 1187025.43it/s]\n"
     ]
    },
    {
     "name": "stdout",
     "output_type": "stream",
     "text": [
      "\u001B[2m\u001B[36m(RayTrainWorker pid=675, ip=10.244.0.78)\u001B[0m Extracting /tmp/data/FashionMNIST/raw/train-labels-idx1-ubyte.gz to /tmp/data/FashionMNIST/raw\n",
      "\u001B[2m\u001B[36m(RayTrainWorker pid=675, ip=10.244.0.78)\u001B[0m \n",
      "\u001B[2m\u001B[36m(RayTrainWorker pid=675, ip=10.244.0.78)\u001B[0m Downloading http://fashion-mnist.s3-website.eu-central-1.amazonaws.com/t10k-images-idx3-ubyte.gz\n",
      "\u001B[2m\u001B[36m(RayTrainWorker pid=676, ip=10.244.0.78)\u001B[0m Extracting /tmp/data/FashionMNIST/raw/train-labels-idx1-ubyte.gz to /tmp/data/FashionMNIST/raw\n",
      "\u001B[2m\u001B[36m(RayTrainWorker pid=676, ip=10.244.0.78)\u001B[0m \n",
      "\u001B[2m\u001B[36m(RayTrainWorker pid=676, ip=10.244.0.78)\u001B[0m Downloading http://fashion-mnist.s3-website.eu-central-1.amazonaws.com/t10k-images-idx3-ubyte.gz\n",
      "\u001B[2m\u001B[36m(RayTrainWorker pid=676, ip=10.244.0.78)\u001B[0m Downloading http://fashion-mnist.s3-website.eu-central-1.amazonaws.com/t10k-images-idx3-ubyte.gz to /tmp/data/FashionMNIST/raw/t10k-images-idx3-ubyte.gz\n",
      "\u001B[2m\u001B[36m(RayTrainWorker pid=675, ip=10.244.0.78)\u001B[0m Downloading http://fashion-mnist.s3-website.eu-central-1.amazonaws.com/t10k-images-idx3-ubyte.gz to /tmp/data/FashionMNIST/raw/t10k-images-idx3-ubyte.gz\n"
     ]
    },
    {
     "name": "stderr",
     "output_type": "stream",
     "text": [
      "  0%|          | 0/4422102 [00:00<?, ?it/s].0.78)\u001B[0m \n",
      "  7%|▋         | 294912/4422102 [00:00<00:01, 2896520.95it/s]\n",
      "  0%|          | 0/4422102 [00:00<?, ?it/s].0.78)\u001B[0m \n",
      " 27%|██▋       | 1212416/4422102 [00:00<00:00, 6453858.97it/s]\n",
      "  5%|▌         | 229376/4422102 [00:00<00:02, 1923218.36it/s]\n",
      " 43%|████▎     | 1900544/4422102 [00:00<00:00, 6589055.06it/s]\n",
      " 16%|█▋        | 720896/4422102 [00:00<00:01, 3374434.08it/s]\n",
      " 59%|█████▊    | 2588672/4422102 [00:00<00:00, 6498797.77it/s]\n",
      " 27%|██▋       | 1179648/4422102 [00:00<00:00, 3854447.42it/s]\n",
      " 39%|███▉      | 1736704/4422102 [00:00<00:00, 4496035.27it/s]\n",
      " 73%|███████▎  | 3244032/4422102 [00:00<00:00, 6250637.93it/s]\n",
      " 53%|█████▎    | 2326528/4422102 [00:00<00:00, 4953700.75it/s]\n",
      " 88%|████████▊ | 3899392/4422102 [00:00<00:00, 5921718.16it/s]\n",
      " 66%|██████▌   | 2916352/4422102 [00:00<00:00, 5265885.84it/s]\n",
      "100%|██████████| 4422102/4422102 [00:00<00:00, 5935315.11it/s]\n",
      " 85%|████████▌ | 3768320/4422102 [00:00<00:00, 6297029.48it/s]\n",
      "100%|██████████| 4422102/4422102 [00:00<00:00, 5584423.32it/s]\n"
     ]
    },
    {
     "name": "stdout",
     "output_type": "stream",
     "text": [
      "\u001B[2m\u001B[36m(RayTrainWorker pid=676, ip=10.244.0.78)\u001B[0m Extracting /tmp/data/FashionMNIST/raw/t10k-images-idx3-ubyte.gz to /tmp/data/FashionMNIST/raw\n",
      "\u001B[2m\u001B[36m(RayTrainWorker pid=676, ip=10.244.0.78)\u001B[0m \n",
      "\u001B[2m\u001B[36m(RayTrainWorker pid=676, ip=10.244.0.78)\u001B[0m Downloading http://fashion-mnist.s3-website.eu-central-1.amazonaws.com/t10k-labels-idx1-ubyte.gz\n",
      "\u001B[2m\u001B[36m(RayTrainWorker pid=675, ip=10.244.0.78)\u001B[0m Extracting /tmp/data/FashionMNIST/raw/t10k-images-idx3-ubyte.gz to /tmp/data/FashionMNIST/raw\n",
      "\u001B[2m\u001B[36m(RayTrainWorker pid=675, ip=10.244.0.78)\u001B[0m \n",
      "\u001B[2m\u001B[36m(RayTrainWorker pid=675, ip=10.244.0.78)\u001B[0m Downloading http://fashion-mnist.s3-website.eu-central-1.amazonaws.com/t10k-labels-idx1-ubyte.gz\n",
      "\u001B[2m\u001B[36m(RayTrainWorker pid=676, ip=10.244.0.78)\u001B[0m Downloading http://fashion-mnist.s3-website.eu-central-1.amazonaws.com/t10k-labels-idx1-ubyte.gz to /tmp/data/FashionMNIST/raw/t10k-labels-idx1-ubyte.gz\n"
     ]
    },
    {
     "name": "stderr",
     "output_type": "stream",
     "text": [
      "100%|██████████| 5148/5148 [00:00<00:00, 8633457.41it/s]\n"
     ]
    },
    {
     "name": "stdout",
     "output_type": "stream",
     "text": [
      "\u001B[2m\u001B[36m(RayTrainWorker pid=676, ip=10.244.0.78)\u001B[0m Extracting /tmp/data/FashionMNIST/raw/t10k-labels-idx1-ubyte.gz to /tmp/data/FashionMNIST/raw\n",
      "\u001B[2m\u001B[36m(RayTrainWorker pid=676, ip=10.244.0.78)\u001B[0m \n",
      "\u001B[2m\u001B[36m(RayTrainWorker pid=675, ip=10.244.0.78)\u001B[0m Downloading http://fashion-mnist.s3-website.eu-central-1.amazonaws.com/t10k-labels-idx1-ubyte.gz to /tmp/data/FashionMNIST/raw/t10k-labels-idx1-ubyte.gz\n",
      "\u001B[2m\u001B[36m(RayTrainWorker pid=675, ip=10.244.0.78)\u001B[0m Extracting /tmp/data/FashionMNIST/raw/t10k-labels-idx1-ubyte.gz to /tmp/data/FashionMNIST/raw\n",
      "\u001B[2m\u001B[36m(RayTrainWorker pid=675, ip=10.244.0.78)\u001B[0m \n"
     ]
    },
    {
     "name": "stderr",
     "output_type": "stream",
     "text": [
      "100%|██████████| 5148/5148 [00:00<00:00, 37682856.88it/s]\n"
     ]
    },
    {
     "name": "stdout",
     "output_type": "stream",
     "text": [
      "\u001B[2m\u001B[36m(TunerInternal pid=3003)\u001B[0m \n",
      "\u001B[2m\u001B[36m(TunerInternal pid=3003)\u001B[0m Training finished iteration 1 at 2024-01-12 01:34:57. Total running time: 7min 54s\n",
      "\u001B[2m\u001B[36m(TunerInternal pid=3003)\u001B[0m ╭─────────────────────────────────────────╮\n",
      "\u001B[2m\u001B[36m(TunerInternal pid=3003)\u001B[0m │ Training result                         │\n",
      "\u001B[2m\u001B[36m(TunerInternal pid=3003)\u001B[0m ├─────────────────────────────────────────┤\n",
      "\u001B[2m\u001B[36m(TunerInternal pid=3003)\u001B[0m │ checkpoint_dir_name   checkpoint_000000 │\n",
      "\u001B[2m\u001B[36m(TunerInternal pid=3003)\u001B[0m │ time_this_iter_s              193.12779 │\n",
      "\u001B[2m\u001B[36m(TunerInternal pid=3003)\u001B[0m │ time_total_s                  193.12779 │\n",
      "\u001B[2m\u001B[36m(TunerInternal pid=3003)\u001B[0m │ training_iteration                    1 │\n",
      "\u001B[2m\u001B[36m(TunerInternal pid=3003)\u001B[0m │ epoch                                 0 │\n",
      "\u001B[2m\u001B[36m(TunerInternal pid=3003)\u001B[0m │ loss                            0.32324 │\n",
      "\u001B[2m\u001B[36m(TunerInternal pid=3003)\u001B[0m ╰─────────────────────────────────────────╯\n",
      "\u001B[2m\u001B[36m(TunerInternal pid=3003)\u001B[0m Training saved a checkpoint for iteration 1 at: (local)/home/ray/nfs/nfs/TorchTrainer_bf0eb_00000_0_2024-01-12_01-27-03/checkpoint_000000\n",
      "\u001B[2m\u001B[36m(RayTrainWorker pid=675, ip=10.244.0.78)\u001B[0m {'loss': 0.32323741912841797, 'epoch': 0}\n"
     ]
    },
    {
     "name": "stderr",
     "output_type": "stream",
     "text": [
      "\u001B[2m\u001B[36m(RayTrainWorker pid=676, ip=10.244.0.78)\u001B[0m Checkpoint successfully created at: Checkpoint(filesystem=local, path=/home/ray/nfs/nfs/TorchTrainer_bf0eb_00000_0_2024-01-12_01-27-03/checkpoint_000000)\n",
      "\u001B[2m\u001B[36m(RayTrainWorker pid=675, ip=10.244.0.78)\u001B[0m Checkpoint successfully created at: Checkpoint(filesystem=local, path=/home/ray/nfs/nfs/TorchTrainer_bf0eb_00000_0_2024-01-12_01-27-03/checkpoint_000000)\n"
     ]
    },
    {
     "name": "stdout",
     "output_type": "stream",
     "text": [
      "\u001B[2m\u001B[36m(RayTrainWorker pid=675, ip=10.244.0.78)\u001B[0m {'loss': 0.17258714139461517, 'epoch': 1}\n",
      "\u001B[2m\u001B[36m(TunerInternal pid=3003)\u001B[0m \n",
      "\u001B[2m\u001B[36m(TunerInternal pid=3003)\u001B[0m Training finished iteration 2 at 2024-01-12 01:38:03. Total running time: 10min 59s\n",
      "\u001B[2m\u001B[36m(TunerInternal pid=3003)\u001B[0m ╭─────────────────────────────────────────╮\n",
      "\u001B[2m\u001B[36m(TunerInternal pid=3003)\u001B[0m │ Training result                         │\n",
      "\u001B[2m\u001B[36m(TunerInternal pid=3003)\u001B[0m ├─────────────────────────────────────────┤\n",
      "\u001B[2m\u001B[36m(TunerInternal pid=3003)\u001B[0m │ checkpoint_dir_name   checkpoint_000001 │\n",
      "\u001B[2m\u001B[36m(TunerInternal pid=3003)\u001B[0m │ time_this_iter_s              185.30114 │\n",
      "\u001B[2m\u001B[36m(TunerInternal pid=3003)\u001B[0m │ time_total_s                  378.42893 │\n",
      "\u001B[2m\u001B[36m(TunerInternal pid=3003)\u001B[0m │ training_iteration                    2 │\n",
      "\u001B[2m\u001B[36m(TunerInternal pid=3003)\u001B[0m │ epoch                                 1 │\n",
      "\u001B[2m\u001B[36m(TunerInternal pid=3003)\u001B[0m │ loss                            0.17259 │\n",
      "\u001B[2m\u001B[36m(TunerInternal pid=3003)\u001B[0m ╰─────────────────────────────────────────╯\n",
      "\u001B[2m\u001B[36m(TunerInternal pid=3003)\u001B[0m Training saved a checkpoint for iteration 2 at: (local)/home/ray/nfs/nfs/TorchTrainer_bf0eb_00000_0_2024-01-12_01-27-03/checkpoint_000001\n"
     ]
    },
    {
     "name": "stderr",
     "output_type": "stream",
     "text": [
      "\u001B[2m\u001B[36m(RayTrainWorker pid=676, ip=10.244.0.78)\u001B[0m Checkpoint successfully created at: Checkpoint(filesystem=local, path=/home/ray/nfs/nfs/TorchTrainer_bf0eb_00000_0_2024-01-12_01-27-03/checkpoint_000001)\n",
      "\u001B[2m\u001B[36m(RayTrainWorker pid=675, ip=10.244.0.78)\u001B[0m Checkpoint successfully created at: Checkpoint(filesystem=local, path=/home/ray/nfs/nfs/TorchTrainer_bf0eb_00000_0_2024-01-12_01-27-03/checkpoint_000001)\n"
     ]
    },
    {
     "name": "stdout",
     "output_type": "stream",
     "text": [
      "\u001B[2m\u001B[36m(TunerInternal pid=3003)\u001B[0m \n",
      "\u001B[2m\u001B[36m(TunerInternal pid=3003)\u001B[0m Training finished iteration 3 at 2024-01-12 01:41:09. Total running time: 14min 5s\n",
      "\u001B[2m\u001B[36m(TunerInternal pid=3003)\u001B[0m ╭─────────────────────────────────────────╮\n",
      "\u001B[2m\u001B[36m(TunerInternal pid=3003)\u001B[0m │ Training result                         │\n",
      "\u001B[2m\u001B[36m(TunerInternal pid=3003)\u001B[0m ├─────────────────────────────────────────┤\n",
      "\u001B[2m\u001B[36m(TunerInternal pid=3003)\u001B[0m │ checkpoint_dir_name   checkpoint_000002 │\n",
      "\u001B[2m\u001B[36m(TunerInternal pid=3003)\u001B[0m │ time_this_iter_s               186.5469 │\n",
      "\u001B[2m\u001B[36m(TunerInternal pid=3003)\u001B[0m │ time_total_s                  564.97583 │\n",
      "\u001B[2m\u001B[36m(TunerInternal pid=3003)\u001B[0m │ training_iteration                    3 │\n",
      "\u001B[2m\u001B[36m(TunerInternal pid=3003)\u001B[0m │ epoch                                 2 │\n",
      "\u001B[2m\u001B[36m(TunerInternal pid=3003)\u001B[0m │ loss                            0.16846 │\n",
      "\u001B[2m\u001B[36m(TunerInternal pid=3003)\u001B[0m ╰─────────────────────────────────────────╯\n",
      "\u001B[2m\u001B[36m(TunerInternal pid=3003)\u001B[0m Training saved a checkpoint for iteration 3 at: (local)/home/ray/nfs/nfs/TorchTrainer_bf0eb_00000_0_2024-01-12_01-27-03/checkpoint_000002\n",
      "\u001B[2m\u001B[36m(RayTrainWorker pid=675, ip=10.244.0.78)\u001B[0m {'loss': 0.1684553623199463, 'epoch': 2}\n"
     ]
    },
    {
     "name": "stderr",
     "output_type": "stream",
     "text": [
      "\u001B[2m\u001B[36m(RayTrainWorker pid=676, ip=10.244.0.78)\u001B[0m Checkpoint successfully created at: Checkpoint(filesystem=local, path=/home/ray/nfs/nfs/TorchTrainer_bf0eb_00000_0_2024-01-12_01-27-03/checkpoint_000002)\n",
      "\u001B[2m\u001B[36m(RayTrainWorker pid=675, ip=10.244.0.78)\u001B[0m Checkpoint successfully created at: Checkpoint(filesystem=local, path=/home/ray/nfs/nfs/TorchTrainer_bf0eb_00000_0_2024-01-12_01-27-03/checkpoint_000002)\n"
     ]
    },
    {
     "name": "stdout",
     "output_type": "stream",
     "text": [
      "\u001B[2m\u001B[36m(TunerInternal pid=3003)\u001B[0m \n",
      "\u001B[2m\u001B[36m(TunerInternal pid=3003)\u001B[0m Training finished iteration 4 at 2024-01-12 01:44:15. Total running time: 17min 11s\n",
      "\u001B[2m\u001B[36m(TunerInternal pid=3003)\u001B[0m ╭─────────────────────────────────────────╮\n",
      "\u001B[2m\u001B[36m(TunerInternal pid=3003)\u001B[0m │ Training result                         │\n",
      "\u001B[2m\u001B[36m(TunerInternal pid=3003)\u001B[0m ├─────────────────────────────────────────┤\n",
      "\u001B[2m\u001B[36m(TunerInternal pid=3003)\u001B[0m │ checkpoint_dir_name   checkpoint_000003 │\n",
      "\u001B[2m\u001B[36m(TunerInternal pid=3003)\u001B[0m │ time_this_iter_s               186.0695 │\n",
      "\u001B[2m\u001B[36m(TunerInternal pid=3003)\u001B[0m │ time_total_s                  751.04532 │\n",
      "\u001B[2m\u001B[36m(TunerInternal pid=3003)\u001B[0m │ training_iteration                    4 │\n",
      "\u001B[2m\u001B[36m(TunerInternal pid=3003)\u001B[0m │ epoch                                 3 │\n",
      "\u001B[2m\u001B[36m(TunerInternal pid=3003)\u001B[0m │ loss                            0.16956 │\n",
      "\u001B[2m\u001B[36m(TunerInternal pid=3003)\u001B[0m ╰─────────────────────────────────────────╯\n",
      "\u001B[2m\u001B[36m(TunerInternal pid=3003)\u001B[0m Training saved a checkpoint for iteration 4 at: (local)/home/ray/nfs/nfs/TorchTrainer_bf0eb_00000_0_2024-01-12_01-27-03/checkpoint_000003\n",
      "\u001B[2m\u001B[36m(RayTrainWorker pid=675, ip=10.244.0.78)\u001B[0m {'loss': 0.16956102848052979, 'epoch': 3}\n"
     ]
    },
    {
     "name": "stderr",
     "output_type": "stream",
     "text": [
      "\u001B[2m\u001B[36m(RayTrainWorker pid=676, ip=10.244.0.78)\u001B[0m Checkpoint successfully created at: Checkpoint(filesystem=local, path=/home/ray/nfs/nfs/TorchTrainer_bf0eb_00000_0_2024-01-12_01-27-03/checkpoint_000003)\n",
      "\u001B[2m\u001B[36m(RayTrainWorker pid=675, ip=10.244.0.78)\u001B[0m Checkpoint successfully created at: Checkpoint(filesystem=local, path=/home/ray/nfs/nfs/TorchTrainer_bf0eb_00000_0_2024-01-12_01-27-03/checkpoint_000003)\n"
     ]
    }
   ],
   "source": [
    "result = trainer.fit()"
   ],
   "metadata": {
    "collapsed": false
   },
   "id": "f9dfb1e27d2990c6",
   "execution_count": 7
  },
  {
   "cell_type": "code",
   "outputs": [],
   "source": [],
   "metadata": {
    "collapsed": false
   },
   "id": "9002eb515b36772b"
  }
 ],
 "metadata": {
  "kernelspec": {
   "display_name": "Python 3",
   "language": "python",
   "name": "python3"
  },
  "language_info": {
   "codemirror_mode": {
    "name": "ipython",
    "version": 2
   },
   "file_extension": ".py",
   "mimetype": "text/x-python",
   "name": "python",
   "nbconvert_exporter": "python",
   "pygments_lexer": "ipython2",
   "version": "2.7.6"
  }
 },
 "nbformat": 4,
 "nbformat_minor": 5
}
